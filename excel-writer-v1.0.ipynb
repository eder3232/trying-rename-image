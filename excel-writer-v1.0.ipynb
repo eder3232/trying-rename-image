{
 "cells": [
  {
   "cell_type": "markdown",
   "metadata": {},
   "source": [
    "# Algoritmo para escribir un excel\n"
   ]
  },
  {
   "cell_type": "markdown",
   "metadata": {},
   "source": [
    "## Importación de librerias necesarias\n"
   ]
  },
  {
   "cell_type": "code",
   "execution_count": 78,
   "metadata": {},
   "outputs": [],
   "source": [
    "from openpyxl import Workbook\n",
    "from openpyxl.drawing.image import Image\n",
    "from openpyxl.styles import (\n",
    "    PatternFill,\n",
    "    Border,\n",
    "    Side,\n",
    "    Alignment,\n",
    "    Protection,\n",
    "    Font,\n",
    "    Color,\n",
    ")\n",
    "from openpyxl.utils.cell import get_column_letter, coordinate_from_string\n",
    "import datetime\n",
    "import piexif\n",
    "import pandas as pd\n",
    "\n",
    "from PIL import Image as PILImage"
   ]
  },
  {
   "cell_type": "markdown",
   "metadata": {},
   "source": [
    "## Funciones necesarias"
   ]
  },
  {
   "cell_type": "code",
   "execution_count": 79,
   "metadata": {},
   "outputs": [],
   "source": [
    "def reducir_tamano_imagen(\n",
    "    archivo_entrada, archivo_salida, nueva_resolucion=(1920, 1080), calidad=85\n",
    "):\n",
    "    # Abrir la imagen\n",
    "    imagen = PILImage.open(archivo_entrada)\n",
    "\n",
    "    # Reducir la resolución\n",
    "    imagen = imagen.resize(nueva_resolucion)\n",
    "\n",
    "    # Eliminar metadatos\n",
    "    imagen_info = imagen.info\n",
    "    imagen_exif = imagen_info.get(\"exif\")\n",
    "    if imagen_exif:\n",
    "        nueva_exif = piexif.load(imagen_exif)\n",
    "        nueva_exif.pop(\"thumbnail\", None)  # Eliminar miniatura si existe\n",
    "        nueva_exif_bytes = piexif.dump(nueva_exif)\n",
    "        imagen_info[\"exif\"] = nueva_exif_bytes\n",
    "\n",
    "    # Guardar la imagen reducida\n",
    "    imagen.save(archivo_salida, quality=calidad)\n",
    "\n",
    "    # Cerrar la imagen original\n",
    "    imagen.close()\n",
    "\n",
    "\n",
    "# Uso del ejemplo\n",
    "# reducir_tamano_imagen('../images/60.JPG', '../images-low-quality/60-low-quality.JPG')"
   ]
  },
  {
   "cell_type": "code",
   "execution_count": 80,
   "metadata": {},
   "outputs": [],
   "source": [
    "def escalar_y_guardar_imagen(ruta_imagen, escala_factor, ruta_guardado):\n",
    "    \"\"\"\n",
    "    Escala una imagen y la guarda en una nueva ubicación.\n",
    "\n",
    "    Parámetros:\n",
    "    - ruta_imagen: La ruta de la imagen a escalar.\n",
    "    - escala_factor: El factor de escala para reducir o aumentar la imagen.\n",
    "    - ruta_guardado: La ruta donde se guardará la imagen escalada.\n",
    "\n",
    "    \"\"\"\n",
    "    # Abrir la imagen\n",
    "    imagen = PILImage.open(ruta_imagen)\n",
    "\n",
    "    # Calcular las nuevas dimensiones\n",
    "    nuevo_ancho = int(imagen.width * escala_factor)\n",
    "    nuevo_alto = int(imagen.height * escala_factor)\n",
    "\n",
    "    # Escalar la imagen\n",
    "    imagen_escalada = imagen.resize((nuevo_ancho, nuevo_alto))\n",
    "\n",
    "    # Guardar la imagen\n",
    "    imagen_escalada.save(ruta_guardado)"
   ]
  },
  {
   "cell_type": "code",
   "execution_count": 81,
   "metadata": {},
   "outputs": [
    {
     "name": "stdout",
     "output_type": "stream",
     "text": [
      "A1\n",
      "Z2\n",
      "E10\n",
      "(1, 'A')\n",
      "(2, 'BZ')\n",
      "(10, 'E')\n"
     ]
    }
   ],
   "source": [
    "def convertir_a_referencia_excel(fila, columna):\n",
    "    # Convertir números de fila y columna a referencia de celda\n",
    "    referencia_excel = get_column_letter(columna) + str(fila)\n",
    "\n",
    "    return referencia_excel\n",
    "\n",
    "\n",
    "def convertir_desde_referencia_excel(referencia_excel):\n",
    "    # Convertir referencia de celda a números de fila y columna\n",
    "    columna, fila = coordinate_from_string(referencia_excel)\n",
    "\n",
    "    return fila, columna\n",
    "\n",
    "\n",
    "# Ejemplos de uso\n",
    "print(convertir_a_referencia_excel(1, 1))  # Salida: \"A1\"\n",
    "print(convertir_a_referencia_excel(2, 26))  # Salida: \"BZ2\"\n",
    "print(convertir_a_referencia_excel(10, 5))  # Salida: \"E10\"\n",
    "\n",
    "# Ejemplo de conversión desde referencia de celda a números de fila y columna\n",
    "print(convertir_desde_referencia_excel(\"A1\"))  # Salida: (1, 1)\n",
    "print(convertir_desde_referencia_excel(\"BZ2\"))  # Salida: (2, 26)\n",
    "print(convertir_desde_referencia_excel(\"E10\"))  # Salida: (10, 5)"
   ]
  },
  {
   "cell_type": "code",
   "execution_count": 82,
   "metadata": {},
   "outputs": [],
   "source": [
    "def formato_progresiva(valor_en_metros):\n",
    "    km, metros = divmod(valor_en_metros, 1000)\n",
    "    return f\"{int(km)}+{metros:03d}\""
   ]
  },
  {
   "cell_type": "markdown",
   "metadata": {},
   "source": [
    "## Input\n"
   ]
  },
  {
   "cell_type": "code",
   "execution_count": 83,
   "metadata": {},
   "outputs": [],
   "source": [
    "titulo = \"4.- FICHA FOTOS DEL ITINERARIO DE LA CARRETERA\"\n",
    "\n",
    "subtitulo = \"Panel Fotográfico\""
   ]
  },
  {
   "cell_type": "code",
   "execution_count": 84,
   "metadata": {},
   "outputs": [
    {
     "data": {
      "text/html": [
       "<div>\n",
       "<style scoped>\n",
       "    .dataframe tbody tr th:only-of-type {\n",
       "        vertical-align: middle;\n",
       "    }\n",
       "\n",
       "    .dataframe tbody tr th {\n",
       "        vertical-align: top;\n",
       "    }\n",
       "\n",
       "    .dataframe thead th {\n",
       "        text-align: right;\n",
       "    }\n",
       "</style>\n",
       "<table border=\"1\" class=\"dataframe\">\n",
       "  <thead>\n",
       "    <tr style=\"text-align: right;\">\n",
       "      <th></th>\n",
       "      <th>progresivas</th>\n",
       "      <th>ancho</th>\n",
       "      <th>largo</th>\n",
       "      <th>descripcion_formal</th>\n",
       "      <th>descripcion_personalizada</th>\n",
       "      <th>progresivas_al_reves</th>\n",
       "      <th>id_foto</th>\n",
       "      <th>isValid</th>\n",
       "    </tr>\n",
       "  </thead>\n",
       "  <tbody>\n",
       "    <tr>\n",
       "      <th>0</th>\n",
       "      <td>0</td>\n",
       "      <td>4</td>\n",
       "      <td>-</td>\n",
       "      <td>-</td>\n",
       "      <td>-</td>\n",
       "      <td>11070</td>\n",
       "      <td>68</td>\n",
       "      <td>1</td>\n",
       "    </tr>\n",
       "    <tr>\n",
       "      <th>1</th>\n",
       "      <td>180</td>\n",
       "      <td>5</td>\n",
       "      <td>-</td>\n",
       "      <td>Alcantarilla</td>\n",
       "      <td>alcantarilla de dos ojos</td>\n",
       "      <td>10890</td>\n",
       "      <td>67</td>\n",
       "      <td>1</td>\n",
       "    </tr>\n",
       "    <tr>\n",
       "      <th>2</th>\n",
       "      <td>250</td>\n",
       "      <td>5</td>\n",
       "      <td>-</td>\n",
       "      <td>-</td>\n",
       "      <td>-</td>\n",
       "      <td>10820</td>\n",
       "      <td>66</td>\n",
       "      <td>1</td>\n",
       "    </tr>\n",
       "    <tr>\n",
       "      <th>3</th>\n",
       "      <td>500</td>\n",
       "      <td>5</td>\n",
       "      <td>-</td>\n",
       "      <td>-</td>\n",
       "      <td>-</td>\n",
       "      <td>10570</td>\n",
       "      <td>65</td>\n",
       "      <td>1</td>\n",
       "    </tr>\n",
       "    <tr>\n",
       "      <th>4</th>\n",
       "      <td>750</td>\n",
       "      <td>4</td>\n",
       "      <td>-</td>\n",
       "      <td>-</td>\n",
       "      <td>-</td>\n",
       "      <td>10320</td>\n",
       "      <td>64</td>\n",
       "      <td>1</td>\n",
       "    </tr>\n",
       "  </tbody>\n",
       "</table>\n",
       "</div>"
      ],
      "text/plain": [
       "   progresivas ancho largo descripcion_formal descripcion_personalizada  \\\n",
       "0            0     4     -                  -                         -   \n",
       "1          180     5     -       Alcantarilla  alcantarilla de dos ojos   \n",
       "2          250     5     -                  -                         -   \n",
       "3          500     5     -                  -                         -   \n",
       "4          750     4     -                  -                         -   \n",
       "\n",
       "   progresivas_al_reves  id_foto  isValid  \n",
       "0                 11070       68        1  \n",
       "1                 10890       67        1  \n",
       "2                 10820       66        1  \n",
       "3                 10570       65        1  \n",
       "4                 10320       64        1  "
      ]
     },
     "execution_count": 84,
     "metadata": {},
     "output_type": "execute_result"
    }
   ],
   "source": [
    "df = pd.read_excel(\"./data/progresivas.xlsx\", sheet_name=\"Hoja1\")\n",
    "df.head()"
   ]
  },
  {
   "cell_type": "markdown",
   "metadata": {},
   "source": [
    "## Filtrando valores que no son validos\n"
   ]
  },
  {
   "cell_type": "code",
   "execution_count": 85,
   "metadata": {},
   "outputs": [],
   "source": [
    "filtered_df = df.loc[lambda x: x[\"isValid\"] == 1]\n",
    "filtered_df=filtered_df.iloc[::-1]\n",
    "filtered_df['descripcion_formal']=filtered_df['descripcion_formal'].replace('-','Medición')"
   ]
  },
  {
   "cell_type": "code",
   "execution_count": 86,
   "metadata": {},
   "outputs": [
    {
     "data": {
      "text/html": [
       "<div>\n",
       "<style scoped>\n",
       "    .dataframe tbody tr th:only-of-type {\n",
       "        vertical-align: middle;\n",
       "    }\n",
       "\n",
       "    .dataframe tbody tr th {\n",
       "        vertical-align: top;\n",
       "    }\n",
       "\n",
       "    .dataframe thead th {\n",
       "        text-align: right;\n",
       "    }\n",
       "</style>\n",
       "<table border=\"1\" class=\"dataframe\">\n",
       "  <thead>\n",
       "    <tr style=\"text-align: right;\">\n",
       "      <th></th>\n",
       "      <th>progresivas</th>\n",
       "      <th>ancho</th>\n",
       "      <th>largo</th>\n",
       "      <th>descripcion_formal</th>\n",
       "      <th>descripcion_personalizada</th>\n",
       "      <th>progresivas_al_reves</th>\n",
       "      <th>id_foto</th>\n",
       "      <th>isValid</th>\n",
       "    </tr>\n",
       "  </thead>\n",
       "  <tbody>\n",
       "    <tr>\n",
       "      <th>68</th>\n",
       "      <td>11070</td>\n",
       "      <td>-</td>\n",
       "      <td>-</td>\n",
       "      <td>Hito_kilometrico</td>\n",
       "      <td>Hito 01</td>\n",
       "      <td>0</td>\n",
       "      <td>0</td>\n",
       "      <td>1</td>\n",
       "    </tr>\n",
       "    <tr>\n",
       "      <th>67</th>\n",
       "      <td>11050</td>\n",
       "      <td>4</td>\n",
       "      <td>10.5</td>\n",
       "      <td>Inicio</td>\n",
       "      <td>Puente</td>\n",
       "      <td>20</td>\n",
       "      <td>1</td>\n",
       "      <td>1</td>\n",
       "    </tr>\n",
       "    <tr>\n",
       "      <th>66</th>\n",
       "      <td>11020</td>\n",
       "      <td>-</td>\n",
       "      <td>-</td>\n",
       "      <td>Señal_informativa</td>\n",
       "      <td>Señal</td>\n",
       "      <td>50</td>\n",
       "      <td>2</td>\n",
       "      <td>1</td>\n",
       "    </tr>\n",
       "    <tr>\n",
       "      <th>65</th>\n",
       "      <td>11000</td>\n",
       "      <td>4.6</td>\n",
       "      <td>-</td>\n",
       "      <td>Medición</td>\n",
       "      <td>-</td>\n",
       "      <td>70</td>\n",
       "      <td>3</td>\n",
       "      <td>1</td>\n",
       "    </tr>\n",
       "    <tr>\n",
       "      <th>64</th>\n",
       "      <td>10750</td>\n",
       "      <td>4.2</td>\n",
       "      <td>-</td>\n",
       "      <td>Medición</td>\n",
       "      <td>-</td>\n",
       "      <td>320</td>\n",
       "      <td>4</td>\n",
       "      <td>1</td>\n",
       "    </tr>\n",
       "  </tbody>\n",
       "</table>\n",
       "</div>"
      ],
      "text/plain": [
       "    progresivas ancho largo descripcion_formal descripcion_personalizada  \\\n",
       "68        11070     -     -   Hito_kilometrico                   Hito 01   \n",
       "67        11050     4  10.5             Inicio                    Puente   \n",
       "66        11020     -     -  Señal_informativa                     Señal   \n",
       "65        11000   4.6     -           Medición                         -   \n",
       "64        10750   4.2     -           Medición                         -   \n",
       "\n",
       "    progresivas_al_reves  id_foto  isValid  \n",
       "68                     0        0        1  \n",
       "67                    20        1        1  \n",
       "66                    50        2        1  \n",
       "65                    70        3        1  \n",
       "64                   320        4        1  "
      ]
     },
     "execution_count": 86,
     "metadata": {},
     "output_type": "execute_result"
    }
   ],
   "source": [
    "filtered_df.head()"
   ]
  },
  {
   "cell_type": "markdown",
   "metadata": {},
   "source": [
    "## Diviendo el dataframe en grupos de 6\n"
   ]
  },
  {
   "cell_type": "code",
   "execution_count": 87,
   "metadata": {},
   "outputs": [],
   "source": [
    "tamanio_subconjunto = 6\n",
    "\n",
    "num_subconjuntos = len(filtered_df) // tamanio_subconjunto + (\n",
    "    len(filtered_df) % tamanio_subconjunto > 0\n",
    ")\n",
    "\n",
    "lista_de_dataframes = [filtered_df.iloc[i * tamanio_subconjunto: (i + 1) * tamanio_subconjunto] for i in range(num_subconjuntos)]\n"
   ]
  },
  {
   "cell_type": "code",
   "execution_count": 88,
   "metadata": {},
   "outputs": [],
   "source": [
    "lista_de_cardLists=[]\n",
    "\n",
    "for i, subconjunto in enumerate(lista_de_dataframes):\n",
    "    new_cardList = []\n",
    "    for j, row in subconjunto.iterrows():\n",
    "\n",
    "        new_cardList.append(\n",
    "            {\n",
    "                \"id\": j,\n",
    "                \"description\": f\"{row['descripcion_formal']}\",\n",
    "                \"progresivve\": formato_progresiva(row['progresivas_al_reves']),\n",
    "                \"image_path\": f\"./images-low-quality/{row['id_foto']}-low-quality.JPG\",\n",
    "            }\n",
    "        )\n",
    "    lista_de_cardLists.append(new_cardList)"
   ]
  },
  {
   "cell_type": "markdown",
   "metadata": {},
   "source": [
    "## Seteando variables iniciales\n"
   ]
  },
  {
   "cell_type": "code",
   "execution_count": 89,
   "metadata": {},
   "outputs": [],
   "source": [
    "path_mtc_low_quality = \"./assets-low-quality/mtc-low-quality.jpg\"\n",
    "escalar_y_guardar_imagen(\n",
    "    \"./assets/mtc.jpg\",\n",
    "    escala_factor=0.9,\n",
    "    ruta_guardado=path_mtc_low_quality,\n",
    ")\n",
    "## La imagen escalada del mtc tiene el alto de 3 filas"
   ]
  },
  {
   "cell_type": "markdown",
   "metadata": {},
   "source": [
    "## Creando un workbook\n"
   ]
  },
  {
   "cell_type": "code",
   "execution_count": 90,
   "metadata": {},
   "outputs": [],
   "source": [
    "wb = Workbook()\n",
    "ws = wb.active\n",
    "\n",
    "ancho_columna = 48\n",
    "\n",
    "ws.column_dimensions[\"A\"].width = 2\n",
    "ws.column_dimensions[\"B\"].width = ancho_columna\n",
    "ws.column_dimensions[\"C\"].width = 1\n",
    "ws.column_dimensions[\"D\"].width = ancho_columna"
   ]
  },
  {
   "cell_type": "markdown",
   "metadata": {},
   "source": [
    "## Creando el indice para definir donde insertar el siguiente bloque de excel\n"
   ]
  },
  {
   "cell_type": "code",
   "execution_count": 91,
   "metadata": {},
   "outputs": [],
   "source": [
    "global row_index\n",
    "row_index = 1"
   ]
  },
  {
   "cell_type": "code",
   "execution_count": 92,
   "metadata": {},
   "outputs": [
    {
     "name": "stdout",
     "output_type": "stream",
     "text": [
      "1.9801980198019802\n",
      "7.469654528478058\n"
     ]
    }
   ],
   "source": [
    "# 4000 pixeles de ancho equivalen a 50 celdas de excel, donde cada celda tiene 10.71 unidades\n",
    "# 3000 pixeles de alto equivalen a 101 celdas de excel, donde cada celda tiene 15 unidades\n",
    "\n",
    "alto_celda_equivalencia = 3000 / (101 * 15)\n",
    "ancho_celda_equivalencia = 4000 / (50 * 10.71)\n",
    "print(alto_celda_equivalencia)\n",
    "print(ancho_celda_equivalencia)\n",
    "\n",
    "borde = Border(\n",
    "    left=Side(border_style=\"thin\"),\n",
    "    right=Side(border_style=\"thin\"),\n",
    "    top=Side(border_style=\"thin\"),\n",
    "    bottom=Side(border_style=\"thin\"),\n",
    ")\n",
    "\n",
    "\n",
    "def write_card(number, description, progresivve, image_path, row, column):\n",
    "    imagen = Image(image_path)\n",
    "    altura_celda_1 = 195\n",
    "    altura_celda_2 = 45\n",
    "    ws.row_dimensions[row].height = altura_celda_1\n",
    "\n",
    "    alto_celda_1_pixeles = altura_celda_1 * alto_celda_equivalencia\n",
    "    alto_celda_2_pixeles = altura_celda_2 * alto_celda_equivalencia\n",
    "    ancho_celda_pixeles = ancho_celda_equivalencia * ancho_columna\n",
    "\n",
    "    factor_correccion_escala_alto = 0.65\n",
    "    factor_correccion_escala_ancho = 0.9\n",
    "\n",
    "    if imagen.height > imagen.width:\n",
    "        # print(\"Imagen vertical\")\n",
    "        factor_escala = alto_celda_1_pixeles / imagen.height\n",
    "        imagen.width *= factor_escala\n",
    "        imagen.height = alto_celda_1_pixeles\n",
    "\n",
    "        imagen.width *= factor_correccion_escala_alto\n",
    "        imagen.height *= factor_correccion_escala_alto\n",
    "    else:\n",
    "        # print(\"Imagen horizontal\")\n",
    "        factor_escala = ancho_celda_pixeles / imagen.width\n",
    "        imagen.width = ancho_celda_pixeles\n",
    "        imagen.height *= factor_escala\n",
    "\n",
    "        imagen.width *= factor_correccion_escala_ancho\n",
    "        imagen.height *= factor_correccion_escala_ancho\n",
    "    ws.add_image(imagen, f\"{column}{row}\")\n",
    "    ws[f\"{column}{row}\"].border = borde\n",
    "\n",
    "    row += 1\n",
    "    ws[f\"{column}{row}\"] = f\"Foto {number}: {description} - {progresivve}\"\n",
    "    ws[f\"{column}{row}\"].border = borde\n",
    "    ws[f\"{column}{row}\"].alignment = Alignment(vertical=\"center\")\n",
    "    ws.row_dimensions[row].height = altura_celda_2"
   ]
  },
  {
   "cell_type": "markdown",
   "metadata": {},
   "source": [
    "## Contador de fotos"
   ]
  },
  {
   "cell_type": "code",
   "execution_count": 93,
   "metadata": {},
   "outputs": [],
   "source": [
    "global photo_number\n",
    "photo_number=1"
   ]
  },
  {
   "cell_type": "code",
   "execution_count": 94,
   "metadata": {},
   "outputs": [],
   "source": [
    "def page_inserter(cardList):\n",
    "    global row_index\n",
    "    global photo_number\n",
    "    row_index += 1\n",
    "\n",
    "    img = Image(path_mtc_low_quality)\n",
    "    ws.add_image(img, f\"B{row_index}\")\n",
    "    row_index += 3\n",
    "\n",
    "    row_index += 1\n",
    "\n",
    "    ## Unimos las celdas para el titulo\n",
    "\n",
    "    ws.merge_cells(f\"B{row_index}:D{row_index}\")\n",
    "\n",
    "    ## Escribimos el titulo\n",
    "\n",
    "    ws[f\"B{row_index}\"] = titulo\n",
    "\n",
    "    ## Centramos el titulo y le damos formato negrita y tamanio 14\n",
    "\n",
    "    ws[f\"B{row_index}\"].alignment = Alignment(horizontal=\"center\")\n",
    "    ws[f\"B{row_index}\"].font = Font(bold=True, size=14)\n",
    "\n",
    "    row_index += 2\n",
    "\n",
    "    ## Unimos las celdas para el subtitulo\n",
    "\n",
    "    ws.merge_cells(f\"B{row_index}:D{row_index}\")\n",
    "\n",
    "    ## Escribimos el subtitulo\n",
    "\n",
    "    ws[f\"B{row_index}\"] = subtitulo\n",
    "\n",
    "    ## Centramos el subtitulo y le damos formato negrita y tamanio 14\n",
    "\n",
    "    ws[f\"B{row_index}\"].alignment = Alignment(horizontal=\"center\")\n",
    "    ws[f\"B{row_index}\"].font = Font(bold=True, size=12)\n",
    "\n",
    "    row_index += 2\n",
    "\n",
    "    for i in range(0, len(cardList), 2):\n",
    "        write_card(\n",
    "            photo_number,\n",
    "            cardList[i][\"description\"],\n",
    "            cardList[i][\"progresivve\"],\n",
    "            cardList[i][\"image_path\"],\n",
    "            row_index,\n",
    "            \"B\",\n",
    "        )\n",
    "        photo_number+=1\n",
    "        # row_index += 2\n",
    "        if i + 1 < len(cardList):\n",
    "            write_card(\n",
    "                photo_number,\n",
    "                cardList[i+1][\"description\"],\n",
    "                cardList[i+1][\"progresivve\"],\n",
    "                cardList[i+1][\"image_path\"],\n",
    "                row_index,\n",
    "                \"D\",\n",
    "            )\n",
    "            photo_number+=1\n",
    "            row_index += 3"
   ]
  },
  {
   "cell_type": "code",
   "execution_count": 95,
   "metadata": {},
   "outputs": [],
   "source": [
    "for cardList in lista_de_cardLists:\n",
    "    page_inserter(cardList)\n",
    "    row_index += 2"
   ]
  },
  {
   "cell_type": "markdown",
   "metadata": {},
   "source": [
    "## Guardando el libro en un archivo de trabajo\n"
   ]
  },
  {
   "cell_type": "code",
   "execution_count": 96,
   "metadata": {},
   "outputs": [],
   "source": [
    "wb.save(\"./excel/ficha_fotos.xlsx\")"
   ]
  }
 ],
 "metadata": {
  "kernelspec": {
   "display_name": ".venv",
   "language": "python",
   "name": "python3"
  },
  "language_info": {
   "codemirror_mode": {
    "name": "ipython",
    "version": 3
   },
   "file_extension": ".py",
   "mimetype": "text/x-python",
   "name": "python",
   "nbconvert_exporter": "python",
   "pygments_lexer": "ipython3",
   "version": "3.12.0"
  }
 },
 "nbformat": 4,
 "nbformat_minor": 2
}
