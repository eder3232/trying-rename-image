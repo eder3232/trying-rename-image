{
 "cells": [
  {
   "cell_type": "markdown",
   "metadata": {},
   "source": [
    "# Algoritmo para escribir un excel\n"
   ]
  },
  {
   "cell_type": "markdown",
   "metadata": {},
   "source": [
    "## Importación de librerias necesarias\n"
   ]
  },
  {
   "cell_type": "code",
   "execution_count": 3,
   "metadata": {},
   "outputs": [],
   "source": [
    "from openpyxl import Workbook\n",
    "from openpyxl.drawing.image import Image\n",
    "from openpyxl.styles import (\n",
    "    PatternFill,\n",
    "    Border,\n",
    "    Side,\n",
    "    Alignment,\n",
    "    Protection,\n",
    "    Font,\n",
    "    Color,\n",
    ")\n",
    "from openpyxl.utils.cell import get_column_letter, coordinate_from_string\n",
    "import datetime\n",
    "import piexif\n",
    "\n",
    "from PIL import Image as PILImage"
   ]
  },
  {
   "cell_type": "markdown",
   "metadata": {},
   "source": [
    "## Input\n"
   ]
  },
  {
   "cell_type": "code",
   "execution_count": 4,
   "metadata": {},
   "outputs": [],
   "source": [
    "titulo = \"4.- FICHA FOTOS DEL ITINERARIO DE LA CARRETERA\"\n",
    "\n",
    "subtitulo = \"Panel Fotográfico\""
   ]
  },
  {
   "cell_type": "markdown",
   "metadata": {},
   "source": [
    "## Funciones utiles\n"
   ]
  },
  {
   "cell_type": "code",
   "execution_count": 5,
   "metadata": {},
   "outputs": [],
   "source": [
    "def reducir_tamano_imagen(\n",
    "    archivo_entrada, archivo_salida, nueva_resolucion=(1920, 1080), calidad=85\n",
    "):\n",
    "    # Abrir la imagen\n",
    "    imagen = PILImage.open(archivo_entrada)\n",
    "\n",
    "    # Reducir la resolución\n",
    "    imagen = imagen.resize(nueva_resolucion)\n",
    "\n",
    "    # Eliminar metadatos\n",
    "    imagen_info = imagen.info\n",
    "    imagen_exif = imagen_info.get(\"exif\")\n",
    "    if imagen_exif:\n",
    "        nueva_exif = piexif.load(imagen_exif)\n",
    "        nueva_exif.pop(\"thumbnail\", None)  # Eliminar miniatura si existe\n",
    "        nueva_exif_bytes = piexif.dump(nueva_exif)\n",
    "        imagen_info[\"exif\"] = nueva_exif_bytes\n",
    "\n",
    "    # Guardar la imagen reducida\n",
    "    imagen.save(archivo_salida, quality=calidad)\n",
    "\n",
    "    # Cerrar la imagen original\n",
    "    imagen.close()\n",
    "\n",
    "\n",
    "# Uso del ejemplo\n",
    "# reducir_tamano_imagen('../images/60.JPG', '../images-low-quality/60-low-quality.JPG')"
   ]
  },
  {
   "cell_type": "code",
   "execution_count": 6,
   "metadata": {},
   "outputs": [],
   "source": [
    "def escalar_y_guardar_imagen(ruta_imagen, escala_factor, ruta_guardado):\n",
    "    \"\"\"\n",
    "    Escala una imagen y la guarda en una nueva ubicación.\n",
    "\n",
    "    Parámetros:\n",
    "    - ruta_imagen: La ruta de la imagen a escalar.\n",
    "    - escala_factor: El factor de escala para reducir o aumentar la imagen.\n",
    "    - ruta_guardado: La ruta donde se guardará la imagen escalada.\n",
    "\n",
    "    \"\"\"\n",
    "    # Abrir la imagen\n",
    "    imagen = PILImage.open(ruta_imagen)\n",
    "\n",
    "    # Calcular las nuevas dimensiones\n",
    "    nuevo_ancho = int(imagen.width * escala_factor)\n",
    "    nuevo_alto = int(imagen.height * escala_factor)\n",
    "\n",
    "    # Escalar la imagen\n",
    "    imagen_escalada = imagen.resize((nuevo_ancho, nuevo_alto))\n",
    "\n",
    "    # Guardar la imagen\n",
    "    imagen_escalada.save(ruta_guardado)"
   ]
  },
  {
   "cell_type": "code",
   "execution_count": 7,
   "metadata": {},
   "outputs": [
    {
     "name": "stdout",
     "output_type": "stream",
     "text": [
      "A1\n",
      "Z2\n",
      "E10\n",
      "(1, 'A')\n",
      "(2, 'BZ')\n",
      "(10, 'E')\n"
     ]
    }
   ],
   "source": [
    "def convertir_a_referencia_excel(fila, columna):\n",
    "    # Convertir números de fila y columna a referencia de celda\n",
    "    referencia_excel = get_column_letter(columna) + str(fila)\n",
    "\n",
    "    return referencia_excel\n",
    "\n",
    "\n",
    "def convertir_desde_referencia_excel(referencia_excel):\n",
    "    # Convertir referencia de celda a números de fila y columna\n",
    "    columna, fila = coordinate_from_string(referencia_excel)\n",
    "\n",
    "    return fila, columna\n",
    "\n",
    "\n",
    "# Ejemplos de uso\n",
    "print(convertir_a_referencia_excel(1, 1))  # Salida: \"A1\"\n",
    "print(convertir_a_referencia_excel(2, 26))  # Salida: \"BZ2\"\n",
    "print(convertir_a_referencia_excel(10, 5))  # Salida: \"E10\"\n",
    "\n",
    "# Ejemplo de conversión desde referencia de celda a números de fila y columna\n",
    "print(convertir_desde_referencia_excel(\"A1\"))  # Salida: (1, 1)\n",
    "print(convertir_desde_referencia_excel(\"BZ2\"))  # Salida: (2, 26)\n",
    "print(convertir_desde_referencia_excel(\"E10\"))  # Salida: (10, 5)"
   ]
  },
  {
   "cell_type": "markdown",
   "metadata": {},
   "source": [
    "## Seteando variables iniciales"
   ]
  },
  {
   "cell_type": "code",
   "execution_count": 8,
   "metadata": {},
   "outputs": [],
   "source": [
    "path_mtc_low_quality = \"./assets-low-quality/mtc-low-quality.jpg\"\n",
    "escalar_y_guardar_imagen(\n",
    "    \"./assets/mtc.jpg\",\n",
    "    escala_factor=0.9,\n",
    "    ruta_guardado=path_mtc_low_quality,\n",
    ")\n",
    "## La imagen escalada del mtc tiene el alto de 3 filas"
   ]
  },
  {
   "cell_type": "markdown",
   "metadata": {},
   "source": [
    "## Creando un workbook\n"
   ]
  },
  {
   "cell_type": "code",
   "execution_count": 9,
   "metadata": {},
   "outputs": [],
   "source": [
    "wb = Workbook()\n",
    "ws = wb.active\n",
    "\n",
    "ancho_columna = 48\n",
    "\n",
    "ws.column_dimensions[\"A\"].width = 2\n",
    "ws.column_dimensions[\"B\"].width = ancho_columna\n",
    "ws.column_dimensions[\"C\"].width = 1\n",
    "ws.column_dimensions[\"D\"].width = ancho_columna"
   ]
  },
  {
   "cell_type": "markdown",
   "metadata": {},
   "source": [
    "## Creando el indice para definir donde insertar el siguiente bloque de excel\n"
   ]
  },
  {
   "cell_type": "code",
   "execution_count": 1,
   "metadata": {},
   "outputs": [],
   "source": [
    "global row_index\n",
    "row_index = 1"
   ]
  },
  {
   "cell_type": "code",
   "execution_count": null,
   "metadata": {},
   "outputs": [],
   "source": [
    "# 4000 pixeles de ancho equivalen a 50 celdas de excel, donde cada celda tiene 10.71 unidades\n",
    "# 3000 pixeles de alto equivalen a 101 celdas de excel, donde cada celda tiene 15 unidades\n",
    "\n",
    "alto_celda_equivalencia = 3000 / (101 * 15)\n",
    "ancho_celda_equivalencia = 4000 / (50 * 10.71)\n",
    "print(alto_celda_equivalencia)\n",
    "print(ancho_celda_equivalencia)\n",
    "\n",
    "borde = Border(left=Side(border_style='thin'), \n",
    "               right=Side(border_style='thin'), \n",
    "               top=Side(border_style='thin'), \n",
    "               bottom=Side(border_style='thin'))\n",
    "\n",
    "def write_card(number, description, progresivve, image_path, row, column):\n",
    "    imagen = Image(image_path)\n",
    "    altura_celda_1 = 195\n",
    "    altura_celda_2 = 45\n",
    "    ws.row_dimensions[row].height = altura_celda_1\n",
    "\n",
    "    alto_celda_1_pixeles = altura_celda_1 * alto_celda_equivalencia\n",
    "    alto_celda_2_pixeles = altura_celda_2 * alto_celda_equivalencia\n",
    "    ancho_celda_pixeles = ancho_celda_equivalencia * ancho_columna\n",
    "\n",
    "    factor_correccion_escala_alto = 0.65\n",
    "    factor_correccion_escala_ancho = 0.9\n",
    "\n",
    "    if imagen.height > imagen.width:\n",
    "        print(\"Imagen vertical\")\n",
    "        factor_escala = alto_celda_1_pixeles / imagen.height\n",
    "        imagen.width *= factor_escala\n",
    "        imagen.height = alto_celda_1_pixeles\n",
    "\n",
    "        imagen.width *= factor_correccion_escala_alto\n",
    "        imagen.height *= factor_correccion_escala_alto\n",
    "    else:\n",
    "        print(\"Imagen horizontal\")\n",
    "        factor_escala = ancho_celda_pixeles / imagen.width\n",
    "        imagen.width = ancho_celda_pixeles\n",
    "        imagen.height *= factor_escala\n",
    "\n",
    "        imagen.width *= factor_correccion_escala_ancho\n",
    "        imagen.height *= factor_correccion_escala_ancho\n",
    "    ws.add_image(imagen, f\"{column}{row}\")\n",
    "    ws[f\"{column}{row}\"].border = borde\n",
    "\n",
    "    row += 1\n",
    "    ws[f\"{column}{row}\"] = f\"Foto {number}: {description} - {progresivve}\"\n",
    "    ws[f\"{column}{row}\"].border = borde\n",
    "    ws[f\"{column}{row}\"].alignment = Alignment(vertical=\"center\")\n",
    "    ws.row_dimensions[row].height = altura_celda_2"
   ]
  },
  {
   "cell_type": "code",
   "execution_count": null,
   "metadata": {},
   "outputs": [],
   "source": [
    "def card_inserter(cardList):\n",
    "    # Dejamos un espacio en blanco\n",
    "    row_index += 1\n",
    "\n",
    "    img = Image(path_mtc_low_quality)\n",
    "    ws.add_image(img, f\"B{row_index}\")\n",
    "    row_index += 3\n",
    "\n",
    "    ## Dejamos un espacio en blanco\n",
    "\n",
    "    row_index += 1\n",
    "\n",
    "    ## Unimos las celdas para el titulo\n",
    "\n",
    "    ws.merge_cells(f\"B{row_index}:D{row_index}\")\n",
    "\n",
    "    ## Escribimos el titulo\n",
    "\n",
    "    ws[f\"B{row_index}\"] = titulo\n",
    "\n",
    "    ## Centramos el titulo y le damos formato negrita y tamanio 14\n",
    "\n",
    "    ws[f\"B{row_index}\"].alignment = Alignment(horizontal=\"center\")\n",
    "    ws[f\"B{row_index}\"].font = Font(bold=True, size=14)\n",
    "\n",
    "    ## Dejamos un espacio en blanco\n",
    "\n",
    "    row_index += 1\n",
    "\n",
    "    ## Unimos las celdas para el titulo\n",
    "\n",
    "    ws.merge_cells(f\"B{row_index}:D{row_index}\")\n",
    "\n",
    "    ## Dejamos un espacio en blanco\n",
    "\n",
    "    row_index += 1\n",
    "\n",
    "    ## Escribimos el subtitulo\n",
    "\n",
    "    ws[f\"B{row_index}\"] = subtitulo\n",
    "\n",
    "    ## Centramos el subtitulo y le damos formato negrita y tamanio 14\n",
    "\n",
    "    ws[f\"B{row_index}\"].alignment = Alignment(horizontal=\"center\")\n",
    "    ws[f\"B{row_index}\"].font = Font(bold=True, size=12)\n",
    "\n",
    "    for i in range(0, len(cardList), 2):\n",
    "        write_card(cardList[i][\"number\"], cardList[i][\"description\"], cardList[i][\"progresivve\"], cardList[i][\"image_path\"], row_index, \"B\")\n",
    "        row_index += 2\n",
    "        write_card(cardList[i][\"number\"], cardList[i][\"description\"], cardList[i][\"progresivve\"], cardList[i][\"image_path\"], row_index, \"D\")\n",
    "        row_index += 2\n"
   ]
  },
  {
   "cell_type": "code",
   "execution_count": 555,
   "metadata": {},
   "outputs": [],
   "source": []
  },
  {
   "cell_type": "code",
   "execution_count": 556,
   "metadata": {},
   "outputs": [
    {
     "name": "stdout",
     "output_type": "stream",
     "text": [
      "Imagen horizontal\n"
     ]
    }
   ],
   "source": [
    "# Dejamos un espacio en blanco\n",
    "row_index += 1\n",
    "# Escribimos en la siguiente celda\n",
    "row_index += 1\n",
    "\n",
    "write_card(\n",
    "    1,\n",
    "    \"Vista de la carretera\",\n",
    "    \"0+000\",\n",
    "    \"./images/1.JPG\",\n",
    "    row_index,\n",
    "    \"B\",\n",
    ")"
   ]
  },
  {
   "cell_type": "markdown",
   "metadata": {},
   "source": [
    "## Guardando el libro en un archivo de trabajo\n"
   ]
  },
  {
   "cell_type": "code",
   "execution_count": 557,
   "metadata": {},
   "outputs": [],
   "source": [
    "wb.save(\"./excel/ficha_fotos.xlsx\")"
   ]
  }
 ],
 "metadata": {
  "kernelspec": {
   "display_name": ".venv",
   "language": "python",
   "name": "python3"
  },
  "language_info": {
   "codemirror_mode": {
    "name": "ipython",
    "version": 3
   },
   "file_extension": ".py",
   "mimetype": "text/x-python",
   "name": "python",
   "nbconvert_exporter": "python",
   "pygments_lexer": "ipython3",
   "version": "3.12.0"
  }
 },
 "nbformat": 4,
 "nbformat_minor": 2
}
