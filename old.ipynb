{
 "cells": [
  {
   "cell_type": "code",
   "execution_count": 2,
   "metadata": {},
   "outputs": [],
   "source": [
    "import pandas as pd\n",
    "import os \n",
    "import shutil"
   ]
  },
  {
   "cell_type": "code",
   "execution_count": 3,
   "metadata": {},
   "outputs": [],
   "source": [
    "excel_file_path = 'data/progresivas.xlsx'\n",
    "df = pd.read_excel(excel_file_path)"
   ]
  },
  {
   "cell_type": "code",
   "execution_count": 58,
   "metadata": {},
   "outputs": [
    {
     "name": "stdout",
     "output_type": "stream",
     "text": [
      "[68, 67, 66, 65, 64, 63, 62, 61, 60, 59, 58, 57, 56, 55, 54, 53, 52, 51, 50, 49, 48, 47, 46, 45, 44, 43, 42, 41, 40, 39, 38, 37, 36, 35, 34, 33, 32, 31, 30, 29, 28, 27, 26, 25, 24, 23, 22, 21, 20, 19, 18, 17, 16, 15, 14, 13, 12, 11, 9, 8, 7, 6, 5, 4, 3, 2, 1]\n"
     ]
    }
   ],
   "source": [
    "images = df['numero_foto'].tolist()\n",
    "print(images)"
   ]
  },
  {
   "cell_type": "code",
   "execution_count": 59,
   "metadata": {},
   "outputs": [
    {
     "name": "stdout",
     "output_type": "stream",
     "text": [
      "['-', 'alcantarilla de dos ojos', '-', '-', '-', 'Hito km1', '-', '-', 'Alcantarilla', '-', '-', '-', '-', '-', '-', 'Baden', 'Hito', '-', '-', '-', '-', 'Alcantarilla', '-', 'Hito Km 07', '-', '-', '-', '-', 'Hito 06', 'Alcantarilla', 'Señal Chaqui - Tarucamarca', '-', '-', '-', '-', 'Hito', 'Baden', '-', '-', '-', '-', 'Hito', '-', 'Alcantarilla', '-', '-', '-', 'Hito 03', '-', '-', 'Baden', '-', 'Alcantarilla lado', 'Baden', 'Hito 02', '-', '-', '-', 'Alcantarilla', 'Hito 01', 'Baden', '-', '-', '-', '-', 'Señal', 'Puente']\n"
     ]
    }
   ],
   "source": [
    "description = df['descripcion'].tolist()\n",
    "print(description)"
   ]
  },
  {
   "cell_type": "code",
   "execution_count": 60,
   "metadata": {},
   "outputs": [],
   "source": [
    "codigo_ruta=\"R040516\""
   ]
  },
  {
   "cell_type": "code",
   "execution_count": 61,
   "metadata": {},
   "outputs": [
    {
     "name": "stdout",
     "output_type": "stream",
     "text": [
      "[11050, 10870, 10800, 10550, 10300, 10080, 10050, 9800, 9630, 9550, 9300, 9050, 8800, 8550, 8300, 8230, 8090, 8050, 7800, 7550, 7300, 7130, 7050, 7020, 6800, 6550, 6300, 6050, 6020, 5850, 5838, 5800, 5550, 5300, 5050, 5020, 4860, 4800, 4550, 4300, 4050, 4030, 3800, 3600, 3550, 3300, 3050, 3020, 2800, 2550, 2470, 2300, 2080, 2020, 1950, 1800, 1550, 1300, 1050, 910, 870, 800, 550, 300, 50, 30, 0]\n",
      "67\n",
      "<class 'int'>\n"
     ]
    }
   ],
   "source": [
    "progresivas = df['progresivas_al_reves'].tolist()\n",
    "print(progresivas)\n",
    "print(len(progresivas))\n",
    "\n",
    "print(type(progresivas[0]))"
   ]
  },
  {
   "cell_type": "code",
   "execution_count": 62,
   "metadata": {},
   "outputs": [],
   "source": [
    "def formato_progresiva(valor_en_metros):\n",
    "    km, metros = divmod(valor_en_metros, 1000)\n",
    "    return f\"{int(km)}+{metros:03d}\""
   ]
  },
  {
   "cell_type": "code",
   "execution_count": 63,
   "metadata": {},
   "outputs": [],
   "source": [
    "# print(formato_progresiva(00))\n",
    "progresivas = [formato_progresiva(valor) for valor in progresivas]"
   ]
  },
  {
   "cell_type": "code",
   "execution_count": 68,
   "metadata": {},
   "outputs": [
    {
     "name": "stdout",
     "output_type": "stream",
     "text": [
      "3\n",
      "65_R040516_Medicion_10+550.jpg\n",
      "4\n",
      "64_R040516_Medicion_10+300.jpg\n",
      "5\n",
      "63_R040516_Hito km1_10+080.jpg\n",
      "6\n",
      "62_R040516_Medicion_10+050.jpg\n",
      "7\n",
      "61_R040516_Medicion_9+800.jpg\n",
      "8\n",
      "60_R040516_Alcantarilla_9+630.jpg\n",
      "9\n",
      "59_R040516_Medicion_9+550.jpg\n",
      "10\n",
      "58_R040516_Medicion_9+300.jpg\n",
      "11\n",
      "57_R040516_Medicion_9+050.jpg\n",
      "12\n",
      "56_R040516_Medicion_8+800.jpg\n",
      "13\n",
      "55_R040516_Medicion_8+550.jpg\n",
      "14\n",
      "54_R040516_Medicion_8+300.jpg\n",
      "15\n",
      "53_R040516_Baden_8+230.jpg\n",
      "16\n",
      "52_R040516_Hito_8+090.jpg\n",
      "17\n",
      "51_R040516_Medicion_8+050.jpg\n",
      "18\n",
      "50_R040516_Medicion_7+800.jpg\n",
      "19\n",
      "49_R040516_Medicion_7+550.jpg\n",
      "20\n",
      "48_R040516_Medicion_7+300.jpg\n",
      "21\n",
      "47_R040516_Alcantarilla_7+130.jpg\n",
      "22\n",
      "46_R040516_Medicion_7+050.jpg\n",
      "23\n",
      "45_R040516_Hito Km 07_7+020.jpg\n",
      "24\n",
      "44_R040516_Medicion_6+800.jpg\n",
      "25\n",
      "43_R040516_Medicion_6+550.jpg\n",
      "26\n",
      "42_R040516_Medicion_6+300.jpg\n",
      "27\n",
      "41_R040516_Medicion_6+050.jpg\n",
      "28\n",
      "40_R040516_Hito 06_6+020.jpg\n",
      "29\n",
      "39_R040516_Alcantarilla_5+850.jpg\n",
      "30\n",
      "38_R040516_Señal Chaqui - Tarucamarca_5+838.jpg\n",
      "31\n",
      "37_R040516_Medicion_5+800.jpg\n",
      "32\n",
      "36_R040516_Medicion_5+550.jpg\n",
      "33\n",
      "35_R040516_Medicion_5+300.jpg\n",
      "34\n",
      "34_R040516_Medicion_5+050.jpg\n",
      "35\n",
      "33_R040516_Hito_5+020.jpg\n",
      "36\n",
      "32_R040516_Baden_4+860.jpg\n",
      "37\n",
      "31_R040516_Medicion_4+800.jpg\n",
      "38\n",
      "30_R040516_Medicion_4+550.jpg\n",
      "39\n",
      "29_R040516_Medicion_4+300.jpg\n",
      "40\n",
      "28_R040516_Medicion_4+050.jpg\n",
      "41\n",
      "27_R040516_Hito_4+030.jpg\n",
      "42\n",
      "26_R040516_Medicion_3+800.jpg\n",
      "43\n",
      "25_R040516_Alcantarilla_3+600.jpg\n",
      "44\n",
      "24_R040516_Medicion_3+550.jpg\n",
      "45\n",
      "23_R040516_Medicion_3+300.jpg\n",
      "46\n",
      "22_R040516_Medicion_3+050.jpg\n",
      "47\n",
      "21_R040516_Hito 03_3+020.jpg\n",
      "48\n",
      "20_R040516_Medicion_2+800.jpg\n",
      "49\n",
      "19_R040516_Medicion_2+550.jpg\n",
      "50\n",
      "18_R040516_Baden_2+470.jpg\n",
      "51\n",
      "17_R040516_Medicion_2+300.jpg\n",
      "52\n",
      "16_R040516_Alcantarilla lado_2+080.jpg\n",
      "53\n",
      "15_R040516_Baden_2+020.jpg\n",
      "54\n",
      "14_R040516_Hito 02_1+950.jpg\n",
      "55\n",
      "13_R040516_Medicion_1+800.jpg\n",
      "56\n",
      "12_R040516_Medicion_1+550.jpg\n",
      "57\n",
      "11_R040516_Medicion_1+300.jpg\n",
      "58\n",
      "09_R040516_Alcantarilla_1+050.jpg\n",
      "59\n",
      "08_R040516_Hito 01_0+910.jpg\n",
      "60\n",
      "07_R040516_Baden_0+870.jpg\n",
      "61\n",
      "06_R040516_Medicion_0+800.jpg\n",
      "62\n",
      "05_R040516_Medicion_0+550.jpg\n",
      "63\n",
      "04_R040516_Medicion_0+300.jpg\n",
      "64\n",
      "03_R040516_Medicion_0+050.jpg\n",
      "65\n",
      "02_R040516_Señal_0+030.jpg\n",
      "66\n",
      "01_R040516_Puente_0+000.jpg\n"
     ]
    }
   ],
   "source": [
    "new_codes=[]\n",
    "\n",
    "indices= [f'{numero:02}' for numero in images]\n",
    "\n",
    "# progresivas = [formato_progresiva(valor) for valor in progresivas]\n",
    "\n",
    "carpeta_origen=\"./images\"\n",
    "\n",
    "carpeta_destino=\"./output\"\n",
    "\n",
    "for i in range(3,len(progresivas)):\n",
    "    print(i)\n",
    "    if os.path.isfile(os.path.join(carpeta_origen, f'{i}.JPG')):\n",
    "        # print(\"existe\")\n",
    "        label=\"\"\n",
    "\n",
    "        if description[i] == \"-\":\n",
    "            label=\"Medicion\"\n",
    "        else:\n",
    "            label=description[i]\n",
    "\n",
    "        nuevo_nombre=f'{indices[i]}_{codigo_ruta}_{label}_{progresivas[i]}.jpg'\n",
    "\n",
    "        ruta_origen=os.path.join(carpeta_origen, f'{images[i]}.JPG')\n",
    "        ruta_destino=os.path.join(carpeta_destino, nuevo_nombre)\n",
    "        \n",
    "        shutil.copyfile(ruta_origen, ruta_destino)\n",
    "        print(nuevo_nombre)\n",
    "# print('Proceso completado')\n",
    "\n",
    "# print(indices)\n"
   ]
  },
  {
   "cell_type": "code",
   "execution_count": null,
   "metadata": {},
   "outputs": [],
   "source": [
    "\n"
   ]
  }
 ],
 "metadata": {
  "kernelspec": {
   "display_name": ".venv",
   "language": "python",
   "name": "python3"
  },
  "language_info": {
   "codemirror_mode": {
    "name": "ipython",
    "version": 3
   },
   "file_extension": ".py",
   "mimetype": "text/x-python",
   "name": "python",
   "nbconvert_exporter": "python",
   "pygments_lexer": "ipython3",
   "version": "3.12.0"
  }
 },
 "nbformat": 4,
 "nbformat_minor": 2
}
