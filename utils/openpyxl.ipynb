{
 "cells": [
  {
   "cell_type": "markdown",
   "metadata": {},
   "source": [
    "# Trying Openpyxl"
   ]
  },
  {
   "cell_type": "markdown",
   "metadata": {},
   "source": [
    "## Importación de librerias"
   ]
  },
  {
   "cell_type": "code",
   "execution_count": 1,
   "metadata": {},
   "outputs": [],
   "source": [
    "from openpyxl import Workbook\n",
    "from openpyxl.drawing.image import Image\n",
    "import datetime\n",
    "import piexif\n",
    "\n",
    "from PIL import Image"
   ]
  },
  {
   "cell_type": "code",
   "execution_count": 3,
   "metadata": {},
   "outputs": [],
   "source": [
    "def reducir_tamano_imagen(archivo_entrada, archivo_salida, nueva_resolucion=(1920, 1080), calidad=85):\n",
    "    # Abrir la imagen\n",
    "    imagen = Image.open(archivo_entrada)\n",
    "\n",
    "    # Reducir la resolución\n",
    "    imagen = imagen.resize(nueva_resolucion)\n",
    "\n",
    "    # Eliminar metadatos\n",
    "    imagen_info = imagen.info\n",
    "    imagen_exif = imagen_info.get(\"exif\")\n",
    "    if imagen_exif:\n",
    "        nueva_exif = piexif.load(imagen_exif)\n",
    "        nueva_exif.pop(\"thumbnail\", None)  # Eliminar miniatura si existe\n",
    "        nueva_exif_bytes = piexif.dump(nueva_exif)\n",
    "        imagen_info[\"exif\"] = nueva_exif_bytes\n",
    "\n",
    "    # Guardar la imagen reducida\n",
    "    imagen.save(archivo_salida, quality=calidad)\n",
    "    \n",
    "    # Cerrar la imagen original\n",
    "    imagen.close()\n",
    "\n",
    "# Uso del ejemplo\n",
    "reducir_tamano_imagen('../images/60.JPG', '../images-low-quality/60-low-quality.JPG')"
   ]
  },
  {
   "cell_type": "code",
   "execution_count": 4,
   "metadata": {},
   "outputs": [],
   "source": [
    "wb= Workbook()\n",
    "\n",
    "ws=wb.active\n",
    "\n",
    "ws['A1']=42\n",
    "\n",
    "ws.append([1,2,3])\n",
    "\n",
    "ws.cell(row=3,column=3,value=\"hello\")\n",
    "\n",
    "ws['A2']=datetime.datetime.now()\n",
    "\n",
    "img= Image(\"../images/1.JPG\")\n",
    "\n",
    "ws.add_image(img,\"F12\")\n",
    "\n",
    "wb.save(\"../excel/sample.xlsx\")"
   ]
  },
  {
   "cell_type": "code",
   "execution_count": null,
   "metadata": {},
   "outputs": [],
   "source": []
  }
 ],
 "metadata": {
  "kernelspec": {
   "display_name": ".venv",
   "language": "python",
   "name": "python3"
  },
  "language_info": {
   "codemirror_mode": {
    "name": "ipython",
    "version": 3
   },
   "file_extension": ".py",
   "mimetype": "text/x-python",
   "name": "python",
   "nbconvert_exporter": "python",
   "pygments_lexer": "ipython3",
   "version": "3.12.0"
  }
 },
 "nbformat": 4,
 "nbformat_minor": 2
}
