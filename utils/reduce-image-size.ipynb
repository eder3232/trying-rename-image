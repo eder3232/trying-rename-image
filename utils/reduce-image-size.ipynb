{
 "cells": [
  {
   "cell_type": "code",
   "execution_count": 1,
   "metadata": {},
   "outputs": [],
   "source": [
    "import piexif\n",
    "from PIL import Image\n"
   ]
  },
  {
   "cell_type": "code",
   "execution_count": 2,
   "metadata": {},
   "outputs": [],
   "source": [
    "def reducir_tamano_imagen(archivo_entrada, archivo_salida, nueva_resolucion=(1920, 1080), calidad=85):\n",
    "    # Abrir la imagen\n",
    "    imagen = Image.open(archivo_entrada)\n",
    "\n",
    "    # Reducir la resolución\n",
    "    imagen = imagen.resize(nueva_resolucion)\n",
    "\n",
    "    # Eliminar metadatos\n",
    "    imagen_info = imagen.info\n",
    "    imagen_exif = imagen_info.get(\"exif\")\n",
    "    if imagen_exif:\n",
    "        nueva_exif = piexif.load(imagen_exif)\n",
    "        nueva_exif.pop(\"thumbnail\", None)  # Eliminar miniatura si existe\n",
    "        nueva_exif_bytes = piexif.dump(nueva_exif)\n",
    "        imagen_info[\"exif\"] = nueva_exif_bytes\n",
    "\n",
    "    # Guardar la imagen reducida\n",
    "    imagen.save(archivo_salida, quality=calidad)\n",
    "    \n",
    "    # Cerrar la imagen original\n",
    "    imagen.close()\n",
    "\n",
    "# Uso del ejemplo\n",
    "reducir_tamano_imagen('../images/60.JPG', '../images-low-quality/60-low-quality.JPG')"
   ]
  },
  {
   "cell_type": "code",
   "execution_count": 3,
   "metadata": {},
   "outputs": [],
   "source": [
    "def escalar_y_guardar_imagen(ruta_imagen, escala_factor, ruta_guardado):\n",
    "    \"\"\"\n",
    "    Escala una imagen y la guarda en una nueva ubicación.\n",
    "\n",
    "    Parámetros:\n",
    "    - ruta_imagen: La ruta de la imagen a escalar.\n",
    "    - escala_factor: El factor de escala para reducir o aumentar la imagen.\n",
    "    - ruta_guardado: La ruta donde se guardará la imagen escalada.\n",
    "\n",
    "    \"\"\"\n",
    "    # Abrir la imagen\n",
    "    imagen = Image.open(ruta_imagen)\n",
    "\n",
    "    # Calcular las nuevas dimensiones\n",
    "    nuevo_ancho = int(imagen.width * escala_factor)\n",
    "    nuevo_alto = int(imagen.height * escala_factor)\n",
    "\n",
    "    # Escalar la imagen\n",
    "    imagen_escalada = imagen.resize((nuevo_ancho, nuevo_alto))\n",
    "\n",
    "    # Guardar la imagen\n",
    "    imagen_escalada.save(ruta_guardado)"
   ]
  },
  {
   "cell_type": "code",
   "execution_count": 4,
   "metadata": {},
   "outputs": [],
   "source": [
    "for i in range(0,69):\n",
    "    escalar_y_guardar_imagen('../images/{}.JPG'.format(i), 0.2, '../images-low-quality/{}-low-quality.JPG'.format(i))"
   ]
  }
 ],
 "metadata": {
  "kernelspec": {
   "display_name": ".venv",
   "language": "python",
   "name": "python3"
  },
  "language_info": {
   "codemirror_mode": {
    "name": "ipython",
    "version": 3
   },
   "file_extension": ".py",
   "mimetype": "text/x-python",
   "name": "python",
   "nbconvert_exporter": "python",
   "pygments_lexer": "ipython3",
   "version": "3.12.0"
  }
 },
 "nbformat": 4,
 "nbformat_minor": 2
}
